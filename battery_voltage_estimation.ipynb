{
 "cells": [
  {
   "cell_type": "code",
   "execution_count": 1,
   "id": "950c3a25-bc88-4414-9673-93b6d7d0f754",
   "metadata": {},
   "outputs": [],
   "source": [
    "import pandas as pd\n",
    "import numpy as np\n",
    "import os \n",
    "from sklearn.metrics import mean_squared_log_error, mean_squared_error\n",
    "from pytorch_lightning.callbacks.early_stopping import EarlyStopping\n",
    "from pytorch_lightning.callbacks import ModelCheckpoint\n",
    "import pytorch_lightning as pl\n",
    "from torch import nn\n",
    "import torch.nn.functional as F\n",
    "import torch\n",
    "import math\n",
    "from sklearn.preprocessing import StandardScaler, MinMaxScaler\n",
    "from sklearn.model_selection import train_test_split, KFold\n",
    "from torch.utils.data import TensorDataset, DataLoader\n",
    "from pathlib import Path\n",
    "from tqdm.notebook import tqdm\n",
    "import matplotlib.pyplot as plt"
   ]
  },
  {
   "cell_type": "code",
   "execution_count": 2,
   "id": "ee8318f4-c45a-4c07-bd12-a3c67f276423",
   "metadata": {},
   "outputs": [],
   "source": [
    "class RMSLELoss(nn.Module):\n",
    "    def __init__(self):\n",
    "        super().__init__()\n",
    "        self.mse = nn.MSELoss()\n",
    "        \n",
    "    def forward(self, pred, actual):\n",
    "        return torch.sqrt(self.mse(torch.log(pred + 1), torch.log(actual + 1)))\n",
    "    \n",
    "def RMSLE(y_true, y_pred):\n",
    "    return np.sqrt(mean_squared_log_error(y_true, y_pred))"
   ]
  },
  {
   "cell_type": "code",
   "execution_count": 3,
   "id": "a70c8115-f660-4708-8017-a7cade2972eb",
   "metadata": {},
   "outputs": [],
   "source": [
    "class BatteryVoltageDataModule(pl.LightningDataModule):\n",
    "    '''\n",
    "    \n",
    "    '''\n",
    "    \n",
    "    def __init__(self, X, y=None, batch_size=256, num_workers=0):\n",
    "        super().__init__()\n",
    "        self.batch_size = batch_size\n",
    "        self.num_workers = num_workers\n",
    "        self.X = X\n",
    "        self.y = y\n",
    "        self.X_scaled = None\n",
    "        self.y_scaled = None\n",
    "        self.X_train_scaled = None\n",
    "        self.X_val_scaled = None\n",
    "        self.y_train_scaled = None\n",
    "        self.y_val_scaled = None\n",
    "        self.X_test_scaled = None\n",
    "        self.y_test_scaled = None\n",
    "        \n",
    "    def prepare_data(self):\n",
    "        pass\n",
    "    \n",
    "    def setup(self, stage=None):\n",
    "        \n",
    "        \"\"\"\n",
    "        Implement the test/train stage\n",
    "        \"\"\"\n",
    "        \n",
    "        X_scaler = StandardScaler()\n",
    "        y_scaler = MinMaxScaler()\n",
    "        \n",
    "        \n",
    "        if stage == 'fit' or stage == None:\n",
    "            \n",
    "            self.X_scaled = X_scaler.fit_transform(self.X)\n",
    "            self.y_scaled = y_scaler.fit_transform(self.y)\n",
    "\n",
    "            self.X_train, self.X_val, self.y_train, self.y_val = train_test_split(self.X_scaled, \n",
    "                                                                                  self.y_scaled, \n",
    "                                                                                  train_size=0.85)\n",
    "\n",
    "            self.X_train_scaled = self.X_train\n",
    "            self.X_val_scaled = self.X_val\n",
    "\n",
    "            self.y_train_scaled = self.y_train\n",
    "            self.y_val_scaled = self.y_val\n",
    "            \n",
    "        elif stage == 'test':\n",
    "            print(\"stage test\")\n",
    "            self.X_test_scaled = X_scaler.fit_transform(self.X)\n",
    "        \n",
    "        else :\n",
    "            print(\"Error: stage not defined\")\n",
    "        \n",
    "\n",
    "        \n",
    "    def train_dataloader(self):\n",
    "        dataset = TensorDataset(torch.FloatTensor(self.X_train_scaled), \n",
    "                                torch.FloatTensor(self.y_train_scaled))\n",
    "        train_loader = DataLoader(dataset, batch_size=self.batch_size, num_workers=4, shuffle=True)\n",
    "        return train_loader\n",
    "    \n",
    "    def val_dataloader(self):\n",
    "        val_dataset = TensorDataset(torch.FloatTensor(self.X_val_scaled), \n",
    "                                    torch.FloatTensor(self.y_val_scaled))\n",
    "        val_loader = DataLoader(val_dataset, batch_size=self.batch_size, num_workers=4, shuffle=False)\n",
    "        return val_loader\n",
    "    \n",
    "    def test_dataloader(self):\n",
    "        test_dataset = TensorDataset(torch.FloatTensor(self.X_test_scaled), \n",
    "                                    torch.FloatTensor(self.y_test_scaled))\n",
    "        test_dataloader = DataLoader(test_dataset, batch_size=self.batch_size, num_workers=4, shuffle=False)\n",
    "        return test_dataloader\n",
    "    \n",
    "    def predict_dataloader(self):\n",
    "        test_dataset = TensorDataset(torch.FloatTensor(self.X_test_scaled))\n",
    "        test_dataloader = DataLoader(test_dataset, batch_size=self.batch_size, num_workers=4, shuffle=False)\n",
    "        return test_dataloader\n",
    "    "
   ]
  },
  {
   "cell_type": "code",
   "execution_count": 4,
   "id": "b416d340-1329-4619-82d3-7bc8366f3c1f",
   "metadata": {},
   "outputs": [],
   "source": [
    "class MLP(pl.LightningModule):\n",
    "  \n",
    "    def __init__(self, learning_rate=1e-3):\n",
    "        super().__init__()\n",
    "        self.save_hyperparameters()\n",
    "        \n",
    "        self.layers = nn.Sequential(\n",
    "            nn.Linear(4, 32),\n",
    "            nn.BatchNorm1d(32),\n",
    "            nn.ReLU(),\n",
    "            nn.Linear(32, 128),\n",
    "            nn.BatchNorm1d(128),\n",
    "            nn.ReLU(),\n",
    "            nn.Linear(128, 256),\n",
    "            nn.BatchNorm1d(256),\n",
    "            nn.ReLU(),\n",
    "            nn.Linear(256, 1),\n",
    "            nn.Sigmoid())\n",
    "\n",
    "    \n",
    "        self.learning_rate = learning_rate\n",
    "        self.loss = RMSLELoss()\n",
    "      \n",
    "\n",
    "    def forward(self, x):\n",
    "        return self.layers(x)\n",
    "\n",
    "    def training_step(self, batch, batch_idx):\n",
    "        x, y = batch\n",
    "        y_hat = self.layers(x)\n",
    "        loss = self.loss(y_hat, y)\n",
    "        self.log('train_loss', loss)\n",
    "        return loss\n",
    "    \n",
    "    def validation_step(self, batch, batch_idx):\n",
    "        x, y = batch\n",
    "        y_hat = self.layers(x)\n",
    "        y_true = y.cpu().numpy()\n",
    "        y_pred = y_hat.cpu().numpy()\n",
    "        loss = RMSLE(y_true, y_pred)\n",
    "        return loss\n",
    "    \n",
    "    def validation_epoch_end(self, val_step_outputs):\n",
    "        loss = sum(val_step_outputs) / len(val_step_outputs)\n",
    "        self.log('val_loss', loss)\n",
    "        \n",
    "\n",
    "    def test_step(self, batch, batch_idx):\n",
    "        x, y = batch\n",
    "        y_hat = self.layers(x)\n",
    "        loss = self.loss(y_hat, y)\n",
    "        result = pl.EvalResult()\n",
    "        self.log('test_loss', loss)\n",
    "        return loss\n",
    "    \n",
    "    def predict_step(self, batch, batch_idx, dataloader_idx=0):\n",
    "        x, y = batch\n",
    "        y_hat = self.model(x)\n",
    "        return y_hat\n",
    "    \n",
    "    \n",
    "    def configure_optimizers(self):\n",
    "        optimizer = torch.optim.Adam(self.parameters(), lr=self.learning_rate)\n",
    "        scheduler = torch.optim.lr_scheduler.ReduceLROnPlateau(optimizer, factor = 0.75, patience=6, verbose = 1,\n",
    "                                                               mode = 'min', cooldown = 0, min_lr = 10e-7)\n",
    "        optimizer_dict = {\"optimizer\": optimizer, \"lr_scheduler\": scheduler, \"monitor\": \"val_loss\"}\n",
    "        return optimizer_dict\n"
   ]
  },
  {
   "cell_type": "code",
   "execution_count": 5,
   "id": "04ec99f8-1f53-4010-bd00-9c028e60c379",
   "metadata": {},
   "outputs": [],
   "source": [
    "src = os.path.join(os.path.abspath(os.getcwd()), \"dataset_battery_voltage/subset_test.csv\")\n",
    "all_data = pd.read_csv(src)\n",
    "\n",
    "X_input = [ 'courant_rc1', 'soc_rc1', 'temperature_rc1', 'voltage_rc1']\n",
    "y_output = ['voltage_rc2']\n",
    "\n",
    "X = all_data[ X_input ]\n",
    "y = all_data[ y_output ]"
   ]
  },
  {
   "cell_type": "code",
   "execution_count": null,
   "id": "b3543666-11b4-4c90-be5d-baea84df0386",
   "metadata": {
    "tags": []
   },
   "outputs": [],
   "source": [
    "early_stop_callback = EarlyStopping(monitor='val_loss',\n",
    "                                    min_delta=0.00,\n",
    "                                    patience=20,\n",
    "                                    verbose=True,\n",
    "                                    mode='min')\n",
    "\n",
    "ckpt_callback = ModelCheckpoint(mode=\"min\", \n",
    "                                monitor=\"val_loss\", \n",
    "                                dirpath='./temp/', filename=f'fold_test')\n",
    "\n",
    "dataModule = BatteryVoltageDataModule(X,y, batch_size=4096)\n",
    "model = MLP()\n",
    "trainer = pl.Trainer(gpus=1, auto_lr_find=True, callbacks=[early_stop_callback, ckpt_callback])\n",
    "trainer.tune(model, dataModule)\n",
    "trainer.fit(model, dataModule)\n"
   ]
  },
  {
   "cell_type": "code",
   "execution_count": 14,
   "id": "0a6fc777-2919-4c73-915f-cf6544d791a2",
   "metadata": {
    "tags": []
   },
   "outputs": [],
   "source": [
    "simnulation_number = 34\n",
    "\n",
    "src = os.path.join(os.path.abspath(os.getcwd()), f\"dataset_battery_voltage/subset_test_sim{simnulation_number-1}.csv\")\n",
    "data_test = pd.read_csv(src)\n",
    "\n",
    "X_pred = data_test[ X_input ]\n",
    "y_pred = data_test[ y_output ]\n",
    "\n",
    "X_scaler = StandardScaler()\n",
    "y_scaler = MinMaxScaler()\n",
    "\n",
    "X_pred = X_scaler.fit_transform(X_pred)\n",
    "y_pred = y_scaler.fit_transform(y_pred)\n",
    "\n",
    "\n",
    "model = MLP.load_from_checkpoint(str(list(Path('./temp/').glob(f'fold_test.ckpt'))[0]))\n",
    "model.eval()\n",
    "\n",
    "prediction = list()\n",
    "predict_dataset = TensorDataset(torch.FloatTensor(X_pred))\n",
    "predict_dataloader = DataLoader(predict_dataset, batch_size=512, num_workers=4, shuffle=False)\n",
    "with torch.no_grad():\n",
    "    for x, in predict_dataloader:\n",
    "        prediction.append(model(x.to(model.device)).detach().cpu().numpy())\n",
    "    prediction = y_scaler.inverse_transform(np.concatenate(prediction))"
   ]
  },
  {
   "cell_type": "code",
   "execution_count": 15,
   "id": "dded321c-09c6-4184-9bec-667b00e4585c",
   "metadata": {},
   "outputs": [
    {
     "data": {
      "image/png": "[encoded data removed]",
      "text/plain": [
       "<Figure size 432x288 with 1 Axes>"
      ]
     },
     "metadata": {
      "needs_background": "light"
     },
     "output_type": "display_data"
    }
   ],
   "source": [
    "plt.plot(data_test[\"time_rc1\"], data_test[\"voltage_rc1\"])\n",
    "plt.plot(data_test[\"time_rc1\"], data_test[\"voltage_rc2\"])\n",
    "plt.plot(data_test[\"time_rc1\"], prediction)\n",
    "plt.ylabel('voltage')\n",
    "plt.xlabel('time')\n",
    "plt.legend(['RC 1', 'RC 2', 'IA'])\n",
    "plt.title(f'simulation {simnulation_number-1}')\n",
    "plt.show()"
   ]
  },
  {
   "cell_type": "code",
   "execution_count": 16,
   "id": "b3f5442f-83f7-4359-af6c-079f3a682322",
   "metadata": {},
   "outputs": [
    {
     "data": {
      "image/png": "[encoded data removed]",
      "text/plain": [
       "<Figure size 432x288 with 1 Axes>"
      ]
     },
     "metadata": {
      "needs_background": "light"
     },
     "output_type": "display_data"
    }
   ],
   "source": [
    "plt.plot(data_test[\"time_rc1\"], \n",
    "        (data_test[\"voltage_rc1\"] - data_test[\"voltage_rc2\"]).abs() / data_test[\"voltage_rc2\"] * 100)\n",
    "\n",
    "plt.plot(data_test[\"time_rc1\"], \n",
    "         (pd.DataFrame(prediction)[0] - data_test[\"voltage_rc2\"]).abs() / data_test[\"voltage_rc2\"] * 100)\n",
    "plt.ylabel('relative error percentage')\n",
    "plt.xlabel('time')\n",
    "plt.legend(['RC 1', 'IA'])\n",
    "plt.title(f'simulation {simnulation_number-1}')\n",
    "plt.show()"
   ]
  },
  {
   "cell_type": "code",
   "execution_count": null,
   "id": "3e41121a-40ad-46c3-bef7-654346f871c3",
   "metadata": {},
   "outputs": [],
   "source": [
    "for i, pred in enumerate(preds):\n",
    "    if i == 0:\n",
    "        y_test = pred\n",
    "    else:\n",
    "        y_test = y_test + pred\n",
    "y_test = y_test / len(preds)"
   ]
  },
  {
   "cell_type": "code",
   "execution_count": null,
   "id": "356facec-67e5-45ce-93e6-2e69759cc189",
   "metadata": {},
   "outputs": [],
   "source": [
    "y_test"
   ]
  },
  {
   "cell_type": "code",
   "execution_count": null,
   "id": "26a67e34-3889-430b-8561-7de70ec153b2",
   "metadata": {},
   "outputs": [],
   "source": [
    "def test_dataloader(X_test_scaled):\n",
    "    test_dataset = TensorDataset(torch.FloatTensor(X_test_scaled))\n",
    "    test_dataloader = DataLoader(test_dataset, batch_size=512, num_workers=4, shuffle=False)\n",
    "    return test_dataloader"
   ]
  },
  {
   "cell_type": "code",
   "execution_count": null,
   "id": "43ed9d84-9a59-47da-9212-ff76483cd109",
   "metadata": {},
   "outputs": [],
   "source": [
    "model = MLP(X, y, X_test, 1e-3, y_scaler=y_scaler, seed=42)\n",
    "model = model.load_from_checkpoint(str(list(Path('./temp/').glob(f'fold_{10}_{1}*ckpt'))[0]))\n",
    "model.eval()"
   ]
  },
  {
   "cell_type": "code",
   "execution_count": null,
   "id": "8716420f-7f31-4784-8630-06e8f31e569f",
   "metadata": {},
   "outputs": [],
   "source": [
    "simnulation_number = 147\n",
    "\n",
    "src = os.path.join(os.path.abspath(os.getcwd()), f\"dataset_battery_power/subset_test_sim{simnulation_number-1}.csv\")\n",
    "all_data = pd.read_csv(src)\n",
    "\n",
    "X_sim23 = [ 'courant_rc1', 'soc_rc1', 'temperature_rc1', 'voltage_rc1']\n",
    "y_sim23 = ['voltage_rc2']\n",
    "\n",
    "X_test = all_data[ X_input ]\n",
    "y_test = all_data[ y_output ]\n",
    "\n",
    "X_scaler = StandardScaler()\n",
    "y_scaler = MinMaxScaler()\n",
    "\n",
    "X = X_scaler.fit_transform(X_train)\n",
    "y = y_scaler.fit_transform(y_train)\n",
    "X_test = X_scaler.transform(X_test)"
   ]
  },
  {
   "cell_type": "code",
   "execution_count": null,
   "id": "329c0de8-8161-440b-90af-25a23ebe5b91",
   "metadata": {},
   "outputs": [],
   "source": [
    "y_test = list()\n",
    "test_loader = test_dataloader(X_test)\n",
    "for x, in test_loader:\n",
    "    y_test.append(model(x.to(model.device)).detach().cpu().numpy())\n",
    "y_test = y_scaler.inverse_transform(np.concatenate(y_test))"
   ]
  },
  {
   "cell_type": "code",
   "execution_count": null,
   "id": "72f097a7-d191-4087-a7b0-dd3bb66fe707",
   "metadata": {},
   "outputs": [],
   "source": [
    "print(((all_data[\"voltage_rc1\"] - all_data[\"voltage_rc2\"]).abs() / all_data[\"voltage_rc2\"] * 100).mean())\n",
    "print(((pd.DataFrame(y_test)[0] - all_data[\"voltage_rc2\"]).abs() / all_data[\"voltage_rc2\"] * 100).mean())\n"
   ]
  },
  {
   "cell_type": "code",
   "execution_count": null,
   "id": "305d5945-8c0e-4082-8213-47b686b5c61e",
   "metadata": {},
   "outputs": [],
   "source": [
    "print(((all_data[\"voltage_rc1\"] - all_data[\"voltage_rc2\"]).abs() / all_data[\"voltage_rc2\"] * 100).std())\n",
    "print(((pd.DataFrame(y_test)[0] - all_data[\"voltage_rc2\"]).abs() / all_data[\"voltage_rc2\"] * 100).std())"
   ]
  },
  {
   "cell_type": "code",
   "execution_count": null,
   "id": "ad47ec70-bca6-4eca-ba2c-a0a30a07951e",
   "metadata": {},
   "outputs": [],
   "source": []
  }
 ],
 "metadata": {
  "kernelspec": {
   "display_name": "Python 3 (ipykernel)",
   "language": "python",
   "name": "python3"
  },
  "language_info": {
   "codemirror_mode": {
    "name": "ipython",
    "version": 3
   },
   "file_extension": ".py",
   "mimetype": "text/x-python",
   "name": "python",
   "nbconvert_exporter": "python",
   "pygments_lexer": "ipython3",
   "version": "3.8.10"
  }
 },
 "nbformat": 4,
 "nbformat_minor": 5
}
