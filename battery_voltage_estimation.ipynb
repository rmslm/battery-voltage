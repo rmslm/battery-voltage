{
 "cells": [
  {
   "cell_type": "code",
   "execution_count": 7,
   "id": "950c3a25-bc88-4414-9673-93b6d7d0f754",
   "metadata": {},
   "outputs": [],
   "source": [
    "import pandas as pd\n",
    "import numpy as np\n",
    "import os \n",
    "from sklearn.metrics import mean_squared_log_error, mean_squared_error\n",
    "from pytorch_lightning.callbacks.early_stopping import EarlyStopping\n",
    "from pytorch_lightning.callbacks import ModelCheckpoint\n",
    "import pytorch_lightning as pl\n",
    "from torch import nn\n",
    "import torch.nn.functional as F\n",
    "import torch\n",
    "import math\n",
    "from sklearn.preprocessing import StandardScaler, MinMaxScaler\n",
    "from sklearn.model_selection import train_test_split, KFold\n",
    "from torch.utils.data import TensorDataset, DataLoader\n",
    "from pathlib import Path\n",
    "from tqdm.notebook import tqdm\n",
    "import matplotlib.pyplot as plt"
   ]
  },
  {
   "cell_type": "code",
   "execution_count": 8,
   "id": "ee8318f4-c45a-4c07-bd12-a3c67f276423",
   "metadata": {},
   "outputs": [],
   "source": [
    "class RMSLELoss(nn.Module):\n",
    "    def __init__(self):\n",
    "        super().__init__()\n",
    "        self.mse = nn.MSELoss()\n",
    "        \n",
    "    def forward(self, pred, actual):\n",
    "        return torch.sqrt(self.mse(torch.log(pred + 1), torch.log(actual + 1)))\n",
    "    \n",
    "def RMSLE(y_true, y_pred):\n",
    "    return np.sqrt(mean_squared_log_error(y_true, y_pred))"
   ]
  },
  {
   "cell_type": "code",
   "execution_count": 9,
   "id": "a70c8115-f660-4708-8017-a7cade2972eb",
   "metadata": {},
   "outputs": [],
   "source": [
    "class BatteryVoltageDataModule(pl.LightningDataModule):\n",
    "    '''\n",
    "    \n",
    "    '''\n",
    "    \n",
    "    def __init__(self, X, y=None, batch_size=256, num_workers=0):\n",
    "        super().__init__()\n",
    "        self.batch_size = batch_size\n",
    "        self.num_workers = num_workers\n",
    "        self.X = X\n",
    "        self.y = y\n",
    "        self.X_scaled = None\n",
    "        self.y_scaled = None\n",
    "        self.X_train_scaled = None\n",
    "        self.X_val_scaled = None\n",
    "        self.y_train_scaled = None\n",
    "        self.y_val_scaled = None\n",
    "        self.X_test_scaled = None\n",
    "        self.y_test_scaled = None\n",
    "        \n",
    "    def prepare_data(self):\n",
    "        pass\n",
    "    \n",
    "    def setup(self, stage=None):\n",
    "        \n",
    "        \"\"\"\n",
    "        Implement the test/train stage\n",
    "        \"\"\"\n",
    "        \n",
    "        X_scaler = StandardScaler()\n",
    "        y_scaler = MinMaxScaler()\n",
    "        \n",
    "        \n",
    "        if stage == 'fit' or stage == None:\n",
    "            \n",
    "            self.X_scaled = X_scaler.fit_transform(self.X)\n",
    "            self.y_scaled = y_scaler.fit_transform(self.y)\n",
    "\n",
    "            self.X_train, self.X_val, self.y_train, self.y_val = train_test_split(self.X_scaled, \n",
    "                                                                                  self.y_scaled, \n",
    "                                                                                  train_size=0.85)\n",
    "\n",
    "            self.X_train_scaled = self.X_train\n",
    "            self.X_val_scaled = self.X_val\n",
    "\n",
    "            self.y_train_scaled = self.y_train\n",
    "            self.y_val_scaled = self.y_val\n",
    "            \n",
    "        elif stage == 'test':\n",
    "            print(\"stage test\")\n",
    "            self.X_test_scaled = X_scaler.fit_transform(self.X)\n",
    "        \n",
    "        else :\n",
    "            print(\"Error: stage not defined\")\n",
    "        \n",
    "\n",
    "        \n",
    "    def train_dataloader(self):\n",
    "        dataset = TensorDataset(torch.FloatTensor(self.X_train_scaled), \n",
    "                                torch.FloatTensor(self.y_train_scaled))\n",
    "        train_loader = DataLoader(dataset, batch_size=self.batch_size, num_workers=4, shuffle=True)\n",
    "        return train_loader\n",
    "    \n",
    "    def val_dataloader(self):\n",
    "        val_dataset = TensorDataset(torch.FloatTensor(self.X_val_scaled), \n",
    "                                    torch.FloatTensor(self.y_val_scaled))\n",
    "        val_loader = DataLoader(val_dataset, batch_size=self.batch_size, num_workers=4, shuffle=False)\n",
    "        return val_loader\n",
    "    \n",
    "    def test_dataloader(self):\n",
    "        test_dataset = TensorDataset(torch.FloatTensor(self.X_test_scaled), \n",
    "                                    torch.FloatTensor(self.y_test_scaled))\n",
    "        test_dataloader = DataLoader(test_dataset, batch_size=self.batch_size, num_workers=4, shuffle=False)\n",
    "        return test_dataloader\n",
    "    \n",
    "    def predict_dataloader(self):\n",
    "        test_dataset = TensorDataset(torch.FloatTensor(self.X_test_scaled))\n",
    "        test_dataloader = DataLoader(test_dataset, batch_size=self.batch_size, num_workers=4, shuffle=False)\n",
    "        return test_dataloader\n",
    "    "
   ]
  },
  {
   "cell_type": "code",
   "execution_count": 23,
   "id": "b416d340-1329-4619-82d3-7bc8366f3c1f",
   "metadata": {},
   "outputs": [],
   "source": [
    "class MLP(pl.LightningModule):\n",
    "  \n",
    "    def __init__(self, learning_rate=1e-3):\n",
    "        super().__init__()\n",
    "        self.save_hyperparameters()\n",
    "        \n",
    "        self.layers = nn.Sequential(\n",
    "            nn.Linear(4, 32),\n",
    "            nn.BatchNorm1d(32),\n",
    "            nn.ReLU(),\n",
    "            nn.Linear(32, 128),\n",
    "            nn.BatchNorm1d(128),\n",
    "            nn.ReLU(),\n",
    "            nn.Linear(128, 256),\n",
    "            nn.BatchNorm1d(256),\n",
    "            nn.ReLU(),\n",
    "            nn.Linear(256, 1),\n",
    "            nn.Sigmoid())\n",
    "\n",
    "    \n",
    "        self.learning_rate = learning_rate\n",
    "        self.loss = RMSLELoss()\n",
    "      \n",
    "\n",
    "    def forward(self, x):\n",
    "        return self.layers(x)\n",
    "\n",
    "    def training_step(self, batch, batch_idx):\n",
    "        x, y = batch\n",
    "        y_hat = self.layers(x)\n",
    "        loss = self.loss(y_hat, y)\n",
    "        self.log('train_loss', loss)\n",
    "        return loss\n",
    "    \n",
    "    def validation_step(self, batch, batch_idx):\n",
    "        x, y = batch\n",
    "        y_hat = self.layers(x)\n",
    "        y_true = y.cpu().numpy()\n",
    "        y_pred = y_hat.cpu().numpy()\n",
    "        loss = RMSLE(y_true, y_pred)\n",
    "        return loss\n",
    "    \n",
    "    def validation_epoch_end(self, val_step_outputs):\n",
    "        loss = sum(val_step_outputs) / len(val_step_outputs)\n",
    "        self.log('val_loss', loss)\n",
    "        \n",
    "\n",
    "    def test_step(self, batch, batch_idx):\n",
    "        x, y = batch\n",
    "        y_hat = self.layers(x)\n",
    "        loss = self.loss(y_hat, y)\n",
    "        self.log('train_loss', loss)\n",
    "        return loss\n",
    "    \n",
    "    def predict_step(self, batch, batch_idx, dataloader_idx=0):\n",
    "        x, y = batch\n",
    "        y_hat = self.model(x)\n",
    "        return y_hat\n",
    "    \n",
    "    \n",
    "    def configure_optimizers(self):\n",
    "        optimizer = torch.optim.Adam(self.parameters(), lr=self.learning_rate)\n",
    "        scheduler = torch.optim.lr_scheduler.ReduceLROnPlateau(optimizer, factor = 0.75, patience=6, verbose = 1,\n",
    "                                                               mode = 'min', cooldown = 0, min_lr = 10e-7)\n",
    "        optimizer_dict = {\"optimizer\": optimizer, \"lr_scheduler\": scheduler, \"monitor\": \"val_loss\"}\n",
    "        return optimizer_dict\n"
   ]
  },
  {
   "cell_type": "code",
   "execution_count": 24,
   "id": "04ec99f8-1f53-4010-bd00-9c028e60c379",
   "metadata": {},
   "outputs": [],
   "source": [
    "src = os.path.join(os.path.abspath(os.getcwd()), \"dataset_battery_voltage/subset_test.csv\")\n",
    "all_data = pd.read_csv(src)\n",
    "\n",
    "X_input = [ 'courant_rc1', 'soc_rc1', 'temperature_rc1', 'voltage_rc1']\n",
    "y_output = ['voltage_rc2']\n",
    "\n",
    "X = all_data[ X_input ]\n",
    "y = all_data[ y_output ]"
   ]
  },
  {
   "cell_type": "code",
   "execution_count": null,
   "id": "b3543666-11b4-4c90-be5d-baea84df0386",
   "metadata": {
    "tags": []
   },
   "outputs": [
    {
     "name": "stderr",
     "output_type": "stream",
     "text": [
      "GPU available: True, used: True\n",
      "TPU available: False, using: 0 TPU cores\n",
      "IPU available: False, using: 0 IPUs\n",
      "LOCAL_RANK: 0 - CUDA_VISIBLE_DEVICES: [0,1,2,3]\n",
      "\n",
      "  | Name   | Type       | Params\n",
      "--------------------------------------\n",
      "0 | layers | Sequential | 38.5 K\n",
      "1 | loss   | RMSLELoss  | 0     \n",
      "--------------------------------------\n",
      "38.5 K    Trainable params\n",
      "0         Non-trainable params\n",
      "38.5 K    Total params\n",
      "0.154     Total estimated model params size (MB)\n",
      "/usr/local/lib/python3.8/dist-packages/pytorch_lightning/callbacks/model_checkpoint.py:631: UserWarning: Checkpoint directory /wksp/salemr/battery-1/battery-voltage/temp exists and is not empty.\n",
      "  rank_zero_warn(f\"Checkpoint directory {dirpath} exists and is not empty.\")\n"
     ]
    },
    {
     "name": "stdout",
     "output_type": "stream",
     "text": [
      "Epoch 0:  84%|████████████████████████████████████████████████████████████████▏           | 114/135 [00:13<00:02,  8.57it/s, loss=0.00679, v_num=6]\n",
      "Validating: 0it [00:00, ?it/s]\u001b[A\n",
      "Validating:   0%|                                                                                                           | 0/21 [00:00<?, ?it/s]\u001b[A\n",
      "Validating:   5%|████▋                                                                                              | 1/21 [00:01<00:25,  1.27s/it]\u001b[A\n",
      "Epoch 0:  89%|███████████████████████████████████████████████████████████████████▌        | 120/135 [00:15<00:01,  7.95it/s, loss=0.00679, v_num=6]\u001b[A\n",
      "Epoch 0:  93%|██████████████████████████████████████████████████████████████████████▉     | 126/135 [00:15<00:01,  8.08it/s, loss=0.00679, v_num=6]\u001b[A\n",
      "Epoch 0:  98%|██████████████████████████████████████████████████████████████████████████▎ | 132/135 [00:16<00:00,  8.21it/s, loss=0.00679, v_num=6]\u001b[A\n",
      "Epoch 0: 100%|████████████████████████████████████████████████████████████████████████████| 135/135 [00:16<00:00,  8.34it/s, loss=0.00679, v_num=6]\u001b[A\n",
      "                                                                                                                                                   \u001b[A"
     ]
    },
    {
     "name": "stderr",
     "output_type": "stream",
     "text": [
      "Metric val_loss improved. New best score: 0.006\n"
     ]
    },
    {
     "name": "stdout",
     "output_type": "stream",
     "text": [
      "Epoch 1:  84%|████████████████████████████████████████████████████████████████▏           | 114/135 [00:12<00:02,  9.43it/s, loss=0.00606, v_num=6]\n",
      "Validating: 0it [00:00, ?it/s]\u001b[A\n",
      "Validating:   0%|                                                                                                           | 0/21 [00:00<?, ?it/s]\u001b[A\n",
      "Validating:   5%|████▋                                                                                              | 1/21 [00:01<00:22,  1.14s/it]\u001b[A\n",
      "Epoch 1:  89%|███████████████████████████████████████████████████████████████████▌        | 120/135 [00:13<00:01,  8.82it/s, loss=0.00606, v_num=6]\u001b[A\n",
      "Validating:  29%|████████████████████████████▎                                                                      | 6/21 [00:01<00:02,  5.05it/s]\u001b[A\n",
      "Validating:  38%|█████████████████████████████████████▋                                                             | 8/21 [00:01<00:02,  5.72it/s]\u001b[A\n",
      "Epoch 1:  93%|██████████████████████████████████████████████████████████████████████▉     | 126/135 [00:14<00:01,  8.86it/s, loss=0.00606, v_num=6]\u001b[A\n",
      "Validating:  57%|████████████████████████████████████████████████████████                                          | 12/21 [00:02<00:01,  8.04it/s]\u001b[A\n",
      "Epoch 1:  98%|██████████████████████████████████████████████████████████████████████████▎ | 132/135 [00:14<00:00,  9.02it/s, loss=0.00606, v_num=6]\u001b[A\n",
      "Epoch 1: 100%|████████████████████████████████████████████████████████████████████████████| 135/135 [00:14<00:00,  9.14it/s, loss=0.00606, v_num=6]\u001b[A\n",
      "                                                                                                                                                   \u001b[A"
     ]
    },
    {
     "name": "stderr",
     "output_type": "stream",
     "text": [
      "Metric val_loss improved by 0.001 >= min_delta = 0.0. New best score: 0.005\n"
     ]
    },
    {
     "name": "stdout",
     "output_type": "stream",
     "text": [
      "Epoch 2:  84%|████████████████████████████████████████████████████████████████▏           | 114/135 [00:13<00:02,  8.75it/s, loss=0.00517, v_num=6]\n",
      "Validating: 0it [00:00, ?it/s]\u001b[A\n",
      "Validating:   0%|                                                                                                           | 0/21 [00:00<?, ?it/s]\u001b[A\n",
      "Validating:   5%|████▋                                                                                              | 1/21 [00:01<00:24,  1.24s/it]\u001b[A\n",
      "Epoch 2:  89%|███████████████████████████████████████████████████████████████████▌        | 120/135 [00:14<00:01,  8.17it/s, loss=0.00517, v_num=6]\u001b[A\n",
      "Epoch 2:  93%|██████████████████████████████████████████████████████████████████████▉     | 126/135 [00:15<00:01,  8.31it/s, loss=0.00517, v_num=6]\u001b[A\n",
      "Epoch 2:  98%|██████████████████████████████████████████████████████████████████████████▎ | 132/135 [00:15<00:00,  8.46it/s, loss=0.00517, v_num=6]\u001b[A\n",
      "Epoch 2: 100%|████████████████████████████████████████████████████████████████████████████| 135/135 [00:15<00:00,  8.61it/s, loss=0.00517, v_num=6]\u001b[A\n",
      "                                                                                                                                                   \u001b[A"
     ]
    },
    {
     "name": "stderr",
     "output_type": "stream",
     "text": [
      "Metric val_loss improved by 0.001 >= min_delta = 0.0. New best score: 0.005\n"
     ]
    },
    {
     "name": "stdout",
     "output_type": "stream",
     "text": [
      "Epoch 3:  84%|████████████████████████████████████████████████████████████████▏           | 114/135 [00:12<00:02,  9.20it/s, loss=0.00497, v_num=6]\n",
      "Validating: 0it [00:00, ?it/s]\u001b[A\n",
      "Validating:   0%|                                                                                                           | 0/21 [00:00<?, ?it/s]\u001b[A\n",
      "Validating:   5%|████▋                                                                                              | 1/21 [00:01<00:27,  1.36s/it]\u001b[A\n",
      "Epoch 3:  89%|███████████████████████████████████████████████████████████████████▌        | 120/135 [00:14<00:01,  8.44it/s, loss=0.00497, v_num=6]\u001b[A\n",
      "Epoch 3:  93%|██████████████████████████████████████████████████████████████████████▉     | 126/135 [00:14<00:01,  8.57it/s, loss=0.00497, v_num=6]\u001b[A\n",
      "Epoch 3:  98%|██████████████████████████████████████████████████████████████████████████▎ | 132/135 [00:15<00:00,  8.68it/s, loss=0.00497, v_num=6]\u001b[A\n",
      "Epoch 3: 100%|████████████████████████████████████████████████████████████████████████████| 135/135 [00:15<00:00,  8.83it/s, loss=0.00497, v_num=6]\u001b[A\n",
      "Epoch 4:  84%|████████████████████████████████████████████████████████████████▏           | 114/135 [00:12<00:02,  9.25it/s, loss=0.00542, v_num=6]\u001b[A\n",
      "Validating: 0it [00:00, ?it/s]\u001b[A\n",
      "Validating:   0%|                                                                                                           | 0/21 [00:00<?, ?it/s]\u001b[A\n",
      "Validating:   5%|████▋                                                                                              | 1/21 [00:01<00:24,  1.22s/it]\u001b[A\n",
      "Epoch 4:  89%|███████████████████████████████████████████████████████████████████▌        | 120/135 [00:13<00:01,  8.62it/s, loss=0.00542, v_num=6]\u001b[A\n",
      "Epoch 4:  93%|██████████████████████████████████████████████████████████████████████▉     | 126/135 [00:14<00:01,  8.78it/s, loss=0.00542, v_num=6]\u001b[A\n",
      "Validating:  57%|████████████████████████████████████████████████████████                                          | 12/21 [00:02<00:01,  8.19it/s]\u001b[A\n",
      "Epoch 4:  98%|██████████████████████████████████████████████████████████████████████████▎ | 132/135 [00:14<00:00,  8.97it/s, loss=0.00542, v_num=6]\u001b[A\n",
      "Epoch 4: 100%|████████████████████████████████████████████████████████████████████████████| 135/135 [00:14<00:00,  9.10it/s, loss=0.00542, v_num=6]\u001b[A\n",
      "Epoch 5:  84%|████████████████████████████████████████████████████████████████▏           | 114/135 [00:12<00:02,  9.07it/s, loss=0.00474, v_num=6]\u001b[A\n",
      "Validating: 0it [00:00, ?it/s]\u001b[A\n",
      "Validating:   0%|                                                                                                           | 0/21 [00:00<?, ?it/s]\u001b[A\n",
      "Validating:   5%|████▋                                                                                              | 1/21 [00:01<00:22,  1.14s/it]\u001b[A\n",
      "Epoch 5:  89%|███████████████████████████████████████████████████████████████████▌        | 120/135 [00:14<00:01,  8.50it/s, loss=0.00474, v_num=6]\u001b[A\n",
      "Validating:  29%|████████████████████████████▎                                                                      | 6/21 [00:01<00:03,  4.70it/s]\u001b[A\n",
      "Validating:  38%|█████████████████████████████████████▋                                                             | 8/21 [00:01<00:02,  5.73it/s]\u001b[A\n",
      "Epoch 5:  93%|██████████████████████████████████████████████████████████████████████▉     | 126/135 [00:14<00:01,  8.53it/s, loss=0.00474, v_num=6]\u001b[A\n",
      "Validating:  57%|████████████████████████████████████████████████████████                                          | 12/21 [00:02<00:01,  6.96it/s]\u001b[A\n",
      "Epoch 5:  98%|██████████████████████████████████████████████████████████████████████████▎ | 132/135 [00:15<00:00,  8.66it/s, loss=0.00474, v_num=6]\u001b[A\n",
      "Epoch 5: 100%|████████████████████████████████████████████████████████████████████████████| 135/135 [00:15<00:00,  8.77it/s, loss=0.00474, v_num=6]\u001b[A\n",
      "                                                                                                                                                   \u001b[A"
     ]
    },
    {
     "name": "stderr",
     "output_type": "stream",
     "text": [
      "Metric val_loss improved by 0.000 >= min_delta = 0.0. New best score: 0.004\n"
     ]
    },
    {
     "name": "stdout",
     "output_type": "stream",
     "text": [
      "Epoch 6:  84%|████████████████████████████████████████████████████████████████▏           | 114/135 [00:13<00:02,  8.45it/s, loss=0.00515, v_num=6]\n",
      "Validating: 0it [00:00, ?it/s]\u001b[A\n",
      "Validating:   0%|                                                                                                           | 0/21 [00:00<?, ?it/s]\u001b[A\n",
      "Validating:   5%|████▋                                                                                              | 1/21 [00:01<00:23,  1.20s/it]\u001b[A\n",
      "Epoch 6:  89%|███████████████████████████████████████████████████████████████████▌        | 120/135 [00:15<00:01,  7.96it/s, loss=0.00515, v_num=6]\u001b[A\n",
      "Epoch 6:  93%|██████████████████████████████████████████████████████████████████████▉     | 126/135 [00:15<00:01,  8.12it/s, loss=0.00515, v_num=6]\u001b[A\n",
      "Validating:  57%|████████████████████████████████████████████████████████                                          | 12/21 [00:02<00:01,  8.05it/s]\u001b[A\n",
      "Epoch 6: 100%|████████████████████████████████████████████████████████████████████████████| 135/135 [00:16<00:00,  8.43it/s, loss=0.00515, v_num=6]\u001b[A\n",
      "Epoch 7:  84%|████████████████████████████████████████████████████████████████▏           | 114/135 [00:12<00:02,  9.09it/s, loss=0.00496, v_num=6]\u001b[A\n",
      "Validating: 0it [00:00, ?it/s]\u001b[A\n",
      "Validating:   0%|                                                                                                           | 0/21 [00:00<?, ?it/s]\u001b[A\n",
      "Validating:   5%|████▋                                                                                              | 1/21 [00:01<00:23,  1.18s/it]\u001b[A\n",
      "Validating:  14%|██████████████▏                                                                                    | 3/21 [00:01<00:06,  2.67it/s]\u001b[A\n",
      "Epoch 7:  89%|███████████████████████████████████████████████████████████████████▌        | 120/135 [00:14<00:01,  8.49it/s, loss=0.00496, v_num=6]\u001b[A\n",
      "Validating:  33%|█████████████████████████████████                                                                  | 7/21 [00:01<00:02,  6.11it/s]\u001b[A\n",
      "Validating:  38%|█████████████████████████████████████▋                                                             | 8/21 [00:01<00:02,  5.74it/s]\u001b[A\n",
      "Epoch 7:  93%|██████████████████████████████████████████████████████████████████████▉     | 126/135 [00:14<00:01,  8.58it/s, loss=0.00496, v_num=6]\u001b[A\n",
      "Validating:  62%|████████████████████████████████████████████████████████████▋                                     | 13/21 [00:02<00:00,  8.23it/s]\u001b[A\n",
      "Epoch 7:  98%|██████████████████████████████████████████████████████████████████████████▎ | 132/135 [00:15<00:00,  8.76it/s, loss=0.00496, v_num=6]\u001b[A\n",
      "Epoch 7: 100%|████████████████████████████████████████████████████████████████████████████| 135/135 [00:15<00:00,  8.86it/s, loss=0.00496, v_num=6]\u001b[A\n",
      "                                                                                                                                                   \u001b[A"
     ]
    },
    {
     "name": "stderr",
     "output_type": "stream",
     "text": [
      "Metric val_loss improved by 0.000 >= min_delta = 0.0. New best score: 0.004\n"
     ]
    },
    {
     "name": "stdout",
     "output_type": "stream",
     "text": [
      "Epoch 8:  84%|████████████████████████████████████████████████████████████████▏           | 114/135 [00:12<00:02,  9.45it/s, loss=0.00463, v_num=6]\n",
      "Validating: 0it [00:00, ?it/s]\u001b[A\n",
      "Validating:   0%|                                                                                                           | 0/21 [00:00<?, ?it/s]\u001b[A\n",
      "Validating:   5%|████▋                                                                                              | 1/21 [00:01<00:23,  1.18s/it]\u001b[A\n",
      "Epoch 8:  89%|███████████████████████████████████████████████████████████████████▌        | 120/135 [00:13<00:01,  8.79it/s, loss=0.00463, v_num=6]\u001b[A\n",
      "Epoch 8:  93%|██████████████████████████████████████████████████████████████████████▉     | 126/135 [00:14<00:01,  8.95it/s, loss=0.00463, v_num=6]\u001b[A\n",
      "Validating:  57%|████████████████████████████████████████████████████████                                          | 12/21 [00:02<00:01,  8.07it/s]\u001b[A\n",
      "Epoch 8: 100%|████████████████████████████████████████████████████████████████████████████| 135/135 [00:14<00:00,  9.27it/s, loss=0.00463, v_num=6]\u001b[A\n",
      "Epoch 9:  84%|████████████████████████████████████████████████████████████████▏           | 114/135 [00:12<00:02,  9.22it/s, loss=0.00455, v_num=6]\u001b[A\n",
      "Validating: 0it [00:00, ?it/s]\u001b[A\n",
      "Validating:   0%|                                                                                                           | 0/21 [00:00<?, ?it/s]\u001b[A\n",
      "Validating:   5%|████▋                                                                                              | 1/21 [00:01<00:23,  1.17s/it]\u001b[A\n",
      "Epoch 9:  89%|███████████████████████████████████████████████████████████████████▌        | 120/135 [00:13<00:01,  8.61it/s, loss=0.00455, v_num=6]\u001b[A\n",
      "Epoch 9:  93%|██████████████████████████████████████████████████████████████████████▉     | 126/135 [00:14<00:01,  8.77it/s, loss=0.00455, v_num=6]\u001b[A\n",
      "Validating:  57%|████████████████████████████████████████████████████████                                          | 12/21 [00:02<00:01,  8.23it/s]\u001b[A\n",
      "Epoch 9: 100%|████████████████████████████████████████████████████████████████████████████| 135/135 [00:14<00:00,  9.11it/s, loss=0.00455, v_num=6]\u001b[A\n",
      "Epoch 10:  84%|███████████████████████████████████████████████████████████████▎           | 114/135 [00:12<00:02,  9.09it/s, loss=0.00509, v_num=6]\u001b[A\n",
      "Validating: 0it [00:00, ?it/s]\u001b[A\n",
      "Validating:   0%|                                                                                                           | 0/21 [00:00<?, ?it/s]\u001b[A\n",
      "Validating:   5%|████▋                                                                                              | 1/21 [00:01<00:22,  1.12s/it]\u001b[A\n",
      "Epoch 10:  89%|██████████████████████████████████████████████████████████████████▋        | 120/135 [00:14<00:01,  8.54it/s, loss=0.00509, v_num=6]\u001b[A\n",
      "Epoch 10:  93%|██████████████████████████████████████████████████████████████████████     | 126/135 [00:14<00:01,  8.70it/s, loss=0.00509, v_num=6]\u001b[A\n",
      "Validating:  57%|████████████████████████████████████████████████████████                                          | 12/21 [00:02<00:01,  8.38it/s]\u001b[A\n",
      "Epoch 10: 100%|███████████████████████████████████████████████████████████████████████████| 135/135 [00:14<00:00,  9.03it/s, loss=0.00509, v_num=6]\u001b[A\n",
      "Epoch 11:  84%|███████████████████████████████████████████████████████████████▎           | 114/135 [00:12<00:02,  9.44it/s, loss=0.00458, v_num=6]\u001b[A\n",
      "Validating: 0it [00:00, ?it/s]\u001b[A\n",
      "Validating:   0%|                                                                                                           | 0/21 [00:00<?, ?it/s]\u001b[A\n",
      "Validating:   5%|████▋                                                                                              | 1/21 [00:01<00:22,  1.10s/it]\u001b[A\n",
      "Epoch 11:  89%|██████████████████████████████████████████████████████████████████▋        | 120/135 [00:13<00:01,  8.84it/s, loss=0.00458, v_num=6]\u001b[A\n",
      "Epoch 11:  93%|██████████████████████████████████████████████████████████████████████     | 126/135 [00:14<00:01,  9.00it/s, loss=0.00458, v_num=6]\u001b[A\n",
      "Validating:  57%|████████████████████████████████████████████████████████                                          | 12/21 [00:02<00:01,  8.50it/s]\u001b[A\n",
      "Epoch 11:  98%|█████████████████████████████████████████████████████████████████████████▎ | 132/135 [00:14<00:00,  9.19it/s, loss=0.00458, v_num=6]\u001b[A\n",
      "Epoch 11: 100%|███████████████████████████████████████████████████████████████████████████| 135/135 [00:14<00:00,  9.33it/s, loss=0.00458, v_num=6]\u001b[A\n",
      "Epoch 12:  84%|███████████████████████████████████████████████████████████████▎           | 114/135 [00:12<00:02,  8.90it/s, loss=0.00466, v_num=6]\u001b[A\n",
      "Validating: 0it [00:00, ?it/s]\u001b[A\n",
      "Validating:   0%|                                                                                                           | 0/21 [00:00<?, ?it/s]\u001b[A\n",
      "Validating:   5%|████▋                                                                                              | 1/21 [00:01<00:23,  1.20s/it]\u001b[A\n",
      "Validating:  19%|██████████████████▊                                                                                | 4/21 [00:01<00:05,  3.17it/s]\u001b[A\n",
      "Epoch 12:  89%|██████████████████████████████████████████████████████████████████▋        | 120/135 [00:14<00:01,  8.25it/s, loss=0.00466, v_num=6]\u001b[A\n",
      "Validating:  38%|█████████████████████████████████████▋                                                             | 8/21 [00:01<00:02,  6.30it/s]\u001b[A\n",
      "Epoch 12:  93%|██████████████████████████████████████████████████████████████████████     | 126/135 [00:15<00:01,  8.37it/s, loss=0.00466, v_num=6]\u001b[A\n",
      "Epoch 12:  98%|█████████████████████████████████████████████████████████████████████████▎ | 132/135 [00:15<00:00,  8.64it/s, loss=0.00466, v_num=6]\u001b[A\n",
      "Epoch 12: 100%|███████████████████████████████████████████████████████████████████████████| 135/135 [00:15<00:00,  8.78it/s, loss=0.00466, v_num=6]\u001b[A\n",
      "Epoch 13:  84%|███████████████████████████████████████████████████████████████▎           | 114/135 [00:14<00:02,  8.01it/s, loss=0.00428, v_num=6]\u001b[A\n",
      "Validating: 0it [00:00, ?it/s]\u001b[A\n",
      "Validating:   0%|                                                                                                           | 0/21 [00:00<?, ?it/s]\u001b[A\n",
      "Validating:   5%|████▋                                                                                              | 1/21 [00:01<00:24,  1.22s/it]\u001b[A\n",
      "Epoch 13:  89%|██████████████████████████████████████████████████████████████████▋        | 120/135 [00:15<00:01,  7.51it/s, loss=0.00428, v_num=6]\u001b[A\n",
      "Epoch 13:  93%|██████████████████████████████████████████████████████████████████████     | 126/135 [00:16<00:01,  7.65it/s, loss=0.00428, v_num=6]\u001b[A\n",
      "Validating:  57%|████████████████████████████████████████████████████████                                          | 12/21 [00:02<00:01,  7.16it/s]\u001b[A\n",
      "Epoch 13: 100%|███████████████████████████████████████████████████████████████████████████| 135/135 [00:16<00:00,  7.95it/s, loss=0.00428, v_num=6]\u001b[A\n",
      "Epoch 14:  84%|███████████████████████████████████████████████████████████████▎           | 114/135 [00:12<00:02,  8.99it/s, loss=0.00467, v_num=6]\u001b[A\n",
      "Validating: 0it [00:00, ?it/s]\u001b[A\n",
      "Validating:   0%|                                                                                                           | 0/21 [00:00<?, ?it/s]\u001b[A\n",
      "Validating:   5%|████▋                                                                                              | 1/21 [00:01<00:23,  1.17s/it]\u001b[A\n",
      "Epoch 14:  89%|██████████████████████████████████████████████████████████████████▋        | 120/135 [00:14<00:01,  8.41it/s, loss=0.00467, v_num=6]\u001b[A\n",
      "Epoch 14:  93%|██████████████████████████████████████████████████████████████████████     | 126/135 [00:14<00:01,  8.57it/s, loss=0.00467, v_num=6]\u001b[A\n",
      "Validating:  57%|████████████████████████████████████████████████████████                                          | 12/21 [00:02<00:01,  8.05it/s]\u001b[A\n",
      "Epoch 14: 100%|███████████████████████████████████████████████████████████████████████████| 135/135 [00:15<00:00,  8.89it/s, loss=0.00467, v_num=6]\u001b[A\n",
      "                                                                                                                                                   \u001b[A"
     ]
    },
    {
     "name": "stderr",
     "output_type": "stream",
     "text": [
      "Metric val_loss improved by 0.000 >= min_delta = 0.0. New best score: 0.004\n"
     ]
    },
    {
     "name": "stdout",
     "output_type": "stream",
     "text": [
      "Epoch 15:  84%|███████████████████████████████████████████████████████████████▎           | 114/135 [00:12<00:02,  9.43it/s, loss=0.00454, v_num=6]\n",
      "Validating: 0it [00:00, ?it/s]\u001b[A\n",
      "Validating:   0%|                                                                                                           | 0/21 [00:00<?, ?it/s]\u001b[A\n",
      "Validating:   5%|████▋                                                                                              | 1/21 [00:01<00:23,  1.18s/it]\u001b[A\n",
      "Epoch 15:  89%|██████████████████████████████████████████████████████████████████▋        | 120/135 [00:13<00:01,  8.79it/s, loss=0.00454, v_num=6]\u001b[A\n",
      "Epoch 15:  93%|██████████████████████████████████████████████████████████████████████     | 126/135 [00:14<00:01,  8.95it/s, loss=0.00454, v_num=6]\u001b[A\n",
      "Validating:  57%|████████████████████████████████████████████████████████                                          | 12/21 [00:02<00:01,  8.19it/s]\u001b[A\n",
      "Epoch 15: 100%|███████████████████████████████████████████████████████████████████████████| 135/135 [00:14<00:00,  9.26it/s, loss=0.00454, v_num=6]\u001b[A\n",
      "Epoch 16:  84%|███████████████████████████████████████████████████████████████▎           | 114/135 [00:12<00:02,  9.02it/s, loss=0.00444, v_num=6]\u001b[A\n",
      "Validating: 0it [00:00, ?it/s]\u001b[A\n",
      "Validating:   0%|                                                                                                           | 0/21 [00:00<?, ?it/s]\u001b[A\n",
      "Validating:   5%|████▋                                                                                              | 1/21 [00:01<00:24,  1.21s/it]\u001b[A\n",
      "Epoch 16:  89%|██████████████████████████████████████████████████████████████████▋        | 120/135 [00:14<00:01,  8.44it/s, loss=0.00444, v_num=6]\u001b[A\n",
      "Epoch 16:  93%|██████████████████████████████████████████████████████████████████████     | 126/135 [00:14<00:01,  8.61it/s, loss=0.00444, v_num=6]\u001b[A\n",
      "Epoch 16:  98%|█████████████████████████████████████████████████████████████████████████▎ | 132/135 [00:15<00:00,  8.73it/s, loss=0.00444, v_num=6]\u001b[A\n",
      "Epoch 16: 100%|███████████████████████████████████████████████████████████████████████████| 135/135 [00:15<00:00,  8.88it/s, loss=0.00444, v_num=6]\u001b[A\n",
      "Epoch 17:  84%|███████████████████████████████████████████████████████████████▎           | 114/135 [00:12<00:02,  9.32it/s, loss=0.00435, v_num=6]\u001b[A\n",
      "Validating: 0it [00:00, ?it/s]\u001b[A\n",
      "Validating:   0%|                                                                                                           | 0/21 [00:00<?, ?it/s]\u001b[A\n",
      "Validating:   5%|████▋                                                                                              | 1/21 [00:01<00:23,  1.16s/it]\u001b[A\n",
      "Epoch 17:  89%|██████████████████████████████████████████████████████████████████▋        | 120/135 [00:13<00:01,  8.71it/s, loss=0.00435, v_num=6]\u001b[A\n",
      "Epoch 17:  93%|██████████████████████████████████████████████████████████████████████     | 126/135 [00:14<00:01,  8.85it/s, loss=0.00435, v_num=6]\u001b[A\n",
      "Validating:  57%|████████████████████████████████████████████████████████                                          | 12/21 [00:02<00:01,  8.36it/s]\u001b[A\n",
      "Epoch 17:  98%|█████████████████████████████████████████████████████████████████████████▎ | 132/135 [00:14<00:00,  9.05it/s, loss=0.00435, v_num=6]\u001b[A\n",
      "Epoch 17: 100%|███████████████████████████████████████████████████████████████████████████| 135/135 [00:14<00:00,  9.20it/s, loss=0.00435, v_num=6]\u001b[A\n",
      "                                                                                                                                                   \u001b[A"
     ]
    },
    {
     "name": "stderr",
     "output_type": "stream",
     "text": [
      "Metric val_loss improved by 0.000 >= min_delta = 0.0. New best score: 0.004\n"
     ]
    },
    {
     "name": "stdout",
     "output_type": "stream",
     "text": [
      "Epoch 18:  84%|███████████████████████████████████████████████████████████████▎           | 114/135 [00:13<00:02,  8.48it/s, loss=0.00405, v_num=6]\n",
      "Validating: 0it [00:00, ?it/s]\u001b[A\n",
      "Validating:   0%|                                                                                                           | 0/21 [00:00<?, ?it/s]\u001b[A\n",
      "Validating:   5%|████▋                                                                                              | 1/21 [00:01<00:23,  1.17s/it]\u001b[A\n",
      "Epoch 18:  89%|██████████████████████████████████████████████████████████████████▋        | 120/135 [00:15<00:01,  7.99it/s, loss=0.00405, v_num=6]\u001b[A\n",
      "Epoch 18:  93%|██████████████████████████████████████████████████████████████████████     | 126/135 [00:15<00:01,  8.17it/s, loss=0.00405, v_num=6]\u001b[A\n",
      "Validating:  57%|████████████████████████████████████████████████████████                                          | 12/21 [00:02<00:01,  6.94it/s]\u001b[A\n",
      "Epoch 18: 100%|███████████████████████████████████████████████████████████████████████████| 135/135 [00:15<00:00,  8.46it/s, loss=0.00405, v_num=6]\u001b[A\n",
      "Epoch 19:  84%|███████████████████████████████████████████████████████████████▎           | 114/135 [00:12<00:02,  9.16it/s, loss=0.00449, v_num=6]\u001b[A\n",
      "Validating: 0it [00:00, ?it/s]\u001b[A\n",
      "Validating:   0%|                                                                                                           | 0/21 [00:00<?, ?it/s]\u001b[A\n",
      "Validating:   5%|████▋                                                                                              | 1/21 [00:01<00:22,  1.13s/it]\u001b[A\n",
      "Epoch 19:  89%|██████████████████████████████████████████████████████████████████▋        | 120/135 [00:13<00:01,  8.59it/s, loss=0.00449, v_num=6]\u001b[A\n",
      "Epoch 19:  93%|██████████████████████████████████████████████████████████████████████     | 126/135 [00:14<00:01,  8.76it/s, loss=0.00449, v_num=6]\u001b[A\n",
      "Validating:  57%|████████████████████████████████████████████████████████                                          | 12/21 [00:02<00:01,  8.26it/s]\u001b[A\n",
      "Epoch 19:  98%|█████████████████████████████████████████████████████████████████████████▎ | 132/135 [00:14<00:00,  8.93it/s, loss=0.00449, v_num=6]\u001b[A\n",
      "Epoch 19: 100%|███████████████████████████████████████████████████████████████████████████| 135/135 [00:14<00:00,  9.07it/s, loss=0.00449, v_num=6]\u001b[A\n",
      "Epoch 20:  84%|███████████████████████████████████████████████████████████████▎           | 114/135 [00:11<00:02,  9.53it/s, loss=0.00437, v_num=6]\u001b[A\n",
      "Validating: 0it [00:00, ?it/s]\u001b[A\n",
      "Validating:   0%|                                                                                                           | 0/21 [00:00<?, ?it/s]\u001b[A\n",
      "Validating:   5%|████▋                                                                                              | 1/21 [00:01<00:23,  1.19s/it]\u001b[A\n",
      "Epoch 20:  89%|██████████████████████████████████████████████████████████████████▋        | 120/135 [00:13<00:01,  8.85it/s, loss=0.00437, v_num=6]\u001b[A\n",
      "Epoch 20:  93%|██████████████████████████████████████████████████████████████████████     | 126/135 [00:13<00:00,  9.02it/s, loss=0.00437, v_num=6]\u001b[A\n",
      "Epoch 20:  98%|█████████████████████████████████████████████████████████████████████████▎ | 132/135 [00:14<00:00,  9.15it/s, loss=0.00437, v_num=6]\u001b[A\n",
      "Epoch 20: 100%|███████████████████████████████████████████████████████████████████████████| 135/135 [00:14<00:00,  9.29it/s, loss=0.00437, v_num=6]\u001b[A\n",
      "Epoch 21:  84%|███████████████████████████████████████████████████████████████▎           | 114/135 [00:12<00:02,  9.43it/s, loss=0.00445, v_num=6]\u001b[A\n",
      "Validating: 0it [00:00, ?it/s]\u001b[A\n",
      "Validating:   0%|                                                                                                           | 0/21 [00:00<?, ?it/s]\u001b[A\n",
      "Validating:   5%|████▋                                                                                              | 1/21 [00:01<00:23,  1.16s/it]\u001b[A\n",
      "Epoch 21:  89%|██████████████████████████████████████████████████████████████████▋        | 120/135 [00:13<00:01,  8.79it/s, loss=0.00445, v_num=6]\u001b[A\n",
      "Validating:  38%|█████████████████████████████████████▋                                                             | 8/21 [00:01<00:01,  6.65it/s]\u001b[A\n",
      "Epoch 21:  93%|██████████████████████████████████████████████████████████████████████     | 126/135 [00:14<00:01,  8.95it/s, loss=0.00445, v_num=6]\u001b[A\n",
      "Validating:  57%|████████████████████████████████████████████████████████                                          | 12/21 [00:02<00:01,  8.20it/s]\u001b[A\n",
      "Epoch 21:  98%|█████████████████████████████████████████████████████████████████████████▎ | 132/135 [00:14<00:00,  9.14it/s, loss=0.00445, v_num=6]\u001b[A\n",
      "Epoch 21: 100%|███████████████████████████████████████████████████████████████████████████| 135/135 [00:14<00:00,  9.28it/s, loss=0.00445, v_num=6]\u001b[A\n",
      "Epoch 22:  84%|███████████████████████████████████████████████████████████████▎           | 114/135 [00:12<00:02,  9.00it/s, loss=0.00419, v_num=6]\u001b[A\n",
      "Validating: 0it [00:00, ?it/s]\u001b[A\n",
      "Validating:   0%|                                                                                                           | 0/21 [00:00<?, ?it/s]\u001b[A\n",
      "Validating:   5%|████▋                                                                                              | 1/21 [00:01<00:22,  1.14s/it]\u001b[A\n",
      "Epoch 22:  89%|██████████████████████████████████████████████████████████████████▋        | 120/135 [00:14<00:01,  8.46it/s, loss=0.00419, v_num=6]\u001b[A\n",
      "Validating:  33%|█████████████████████████████████                                                                  | 7/21 [00:01<00:02,  6.23it/s]\u001b[A\n",
      "Epoch 22:  93%|██████████████████████████████████████████████████████████████████████     | 126/135 [00:14<00:01,  8.60it/s, loss=0.00419, v_num=6]\u001b[A\n",
      "Validating:  57%|████████████████████████████████████████████████████████                                          | 12/21 [00:02<00:01,  7.33it/s]\u001b[A\n",
      "Epoch 22:  98%|█████████████████████████████████████████████████████████████████████████▎ | 132/135 [00:15<00:00,  8.78it/s, loss=0.00419, v_num=6]\u001b[A\n",
      "Epoch 22: 100%|███████████████████████████████████████████████████████████████████████████| 135/135 [00:15<00:00,  8.90it/s, loss=0.00419, v_num=6]\u001b[A\n",
      "Epoch 23:  84%|███████████████████████████████████████████████████████████████▎           | 114/135 [00:12<00:02,  8.83it/s, loss=0.00429, v_num=6]\u001b[A\n",
      "Validating: 0it [00:00, ?it/s]\u001b[A\n",
      "Validating:   0%|                                                                                                           | 0/21 [00:00<?, ?it/s]\u001b[A\n",
      "Validating:   5%|████▋                                                                                              | 1/21 [00:01<00:23,  1.19s/it]\u001b[A\n",
      "Epoch 23:  89%|██████████████████████████████████████████████████████████████████▋        | 120/135 [00:14<00:01,  8.30it/s, loss=0.00429, v_num=6]\u001b[A\n",
      "Epoch 23:  93%|██████████████████████████████████████████████████████████████████████     | 126/135 [00:14<00:01,  8.46it/s, loss=0.00429, v_num=6]\u001b[A\n",
      "Validating:  57%|████████████████████████████████████████████████████████                                          | 12/21 [00:02<00:01,  8.31it/s]\u001b[A\n",
      "Epoch 23: 100%|███████████████████████████████████████████████████████████████████████████| 135/135 [00:15<00:00,  8.79it/s, loss=0.00429, v_num=6]\u001b[A\n",
      "Epoch 24:  70%|██████████████████████████████████████████████████████▉                       | 95/135 [00:10<00:04,  8.94it/s, loss=0.004, v_num=6]\u001b[A"
     ]
    }
   ],
   "source": [
    "early_stop_callback = EarlyStopping(monitor='val_loss',\n",
    "                                    min_delta=0.00,\n",
    "                                    patience=20,\n",
    "                                    verbose=True,\n",
    "                                    mode='min')\n",
    "\n",
    "ckpt_callback = ModelCheckpoint(mode=\"min\", \n",
    "                                monitor=\"val_loss\", \n",
    "                                dirpath='./temp/', filename=f'fold_test')\n",
    "\n",
    "dataModule = BatteryVoltageDataModule(X,y, batch_size=2**15)\n",
    "model = MLP()\n",
    "trainer = pl.Trainer(accelerator=\"gpu\", \n",
    "                     devices=[1],\n",
    "                     max_epochs=100,\n",
    "                     auto_lr_find=True, \n",
    "                     callbacks=[early_stop_callback, ckpt_callback])\n",
    "\n",
    "#trainer.tune(model, dataModule)\n",
    "trainer.fit(model, dataModule)\n"
   ]
  },
  {
   "cell_type": "code",
   "execution_count": null,
   "id": "0a6fc777-2919-4c73-915f-cf6544d791a2",
   "metadata": {
    "tags": []
   },
   "outputs": [],
   "source": [
    "simnulation_number = 114\n",
    "\n",
    "src = os.path.join(os.path.abspath(os.getcwd()), f\"dataset_battery_voltage/subset_test_sim{simnulation_number}.csv\")\n",
    "data_test = pd.read_csv(src)\n",
    "\n",
    "X_pred = data_test[ X_input ]\n",
    "y_pred = data_test[ y_output ]\n",
    "\n",
    "X_scaler = StandardScaler()\n",
    "y_scaler = MinMaxScaler()\n",
    "\n",
    "X_pred = X_scaler.fit_transform(X_pred)\n",
    "y_pred = y_scaler.fit_transform(y_pred)\n",
    "\n",
    "\n",
    "model = MLP.load_from_checkpoint(str(list(Path('./temp/').glob(f'fold_test-v4.ckpt'))[0]))\n",
    "model.eval()\n",
    "\n",
    "prediction = list()\n",
    "predict_dataset = TensorDataset(torch.FloatTensor(X_pred))\n",
    "predict_dataloader = DataLoader(predict_dataset, batch_size=512, num_workers=4, shuffle=False)\n",
    "with torch.no_grad():\n",
    "    for x, in predict_dataloader:\n",
    "        prediction.append(model(x.to(model.device)).detach().cpu().numpy())\n",
    "    prediction = y_scaler.inverse_transform(np.concatenate(prediction))"
   ]
  },
  {
   "cell_type": "code",
   "execution_count": 21,
   "id": "dded321c-09c6-4184-9bec-667b00e4585c",
   "metadata": {},
   "outputs": [
    {
     "data": {
      "image/png": "[encoded data removed]",
      "text/plain": [
       "<Figure size 432x288 with 1 Axes>"
      ]
     },
     "metadata": {
      "needs_background": "light"
     },
     "output_type": "display_data"
    }
   ],
   "source": [
    "plt.plot(data_test[\"time_rc1\"], data_test[\"voltage_rc1\"])\n",
    "plt.plot(data_test[\"time_rc1\"], data_test[\"voltage_rc2\"])\n",
    "plt.plot(data_test[\"time_rc1\"], prediction)\n",
    "plt.ylabel('voltage')\n",
    "plt.xlabel('time')\n",
    "plt.legend(['RC 1', 'RC 2', 'IA'])\n",
    "plt.title(f'simulation {simnulation_number+1}')\n",
    "plt.show()"
   ]
  },
  {
   "cell_type": "code",
   "execution_count": 22,
   "id": "b3f5442f-83f7-4359-af6c-079f3a682322",
   "metadata": {},
   "outputs": [
    {
     "data": {
      "image/png": "[encoded data removed]",
      "text/plain": [
       "<Figure size 432x288 with 1 Axes>"
      ]
     },
     "metadata": {
      "needs_background": "light"
     },
     "output_type": "display_data"
    }
   ],
   "source": [
    "plt.plot(data_test[\"time_rc1\"], \n",
    "        (data_test[\"voltage_rc1\"] - data_test[\"voltage_rc2\"]).abs() / data_test[\"voltage_rc2\"] * 100)\n",
    "\n",
    "plt.plot(data_test[\"time_rc1\"], \n",
    "         (pd.DataFrame(prediction)[0] - data_test[\"voltage_rc2\"]).abs() / data_test[\"voltage_rc2\"] * 100)\n",
    "plt.ylabel('relative error percentage')\n",
    "plt.xlabel('time')\n",
    "plt.legend(['RC 1', 'IA'])\n",
    "plt.title(f'simulation {simnulation_number+1}')\n",
    "plt.show()"
   ]
  },
  {
   "cell_type": "code",
   "execution_count": null,
   "id": "3e41121a-40ad-46c3-bef7-654346f871c3",
   "metadata": {},
   "outputs": [],
   "source": [
    "for i, pred in enumerate(preds):\n",
    "    if i == 0:\n",
    "        y_test = pred\n",
    "    else:\n",
    "        y_test = y_test + pred\n",
    "y_test = y_test / len(preds)"
   ]
  },
  {
   "cell_type": "code",
   "execution_count": null,
   "id": "356facec-67e5-45ce-93e6-2e69759cc189",
   "metadata": {},
   "outputs": [],
   "source": [
    "y_test"
   ]
  },
  {
   "cell_type": "code",
   "execution_count": null,
   "id": "26a67e34-3889-430b-8561-7de70ec153b2",
   "metadata": {},
   "outputs": [],
   "source": [
    "def test_dataloader(X_test_scaled):\n",
    "    test_dataset = TensorDataset(torch.FloatTensor(X_test_scaled))\n",
    "    test_dataloader = DataLoader(test_dataset, batch_size=512, num_workers=4, shuffle=False)\n",
    "    return test_dataloader"
   ]
  },
  {
   "cell_type": "code",
   "execution_count": null,
   "id": "43ed9d84-9a59-47da-9212-ff76483cd109",
   "metadata": {},
   "outputs": [],
   "source": [
    "model = MLP(X, y, X_test, 1e-3, y_scaler=y_scaler, seed=42)\n",
    "model = model.load_from_checkpoint(str(list(Path('./temp/').glob(f'fold_{10}_{1}*ckpt'))[0]))\n",
    "model.eval()"
   ]
  },
  {
   "cell_type": "code",
   "execution_count": null,
   "id": "329c0de8-8161-440b-90af-25a23ebe5b91",
   "metadata": {},
   "outputs": [],
   "source": [
    "y_test = list()\n",
    "test_loader = test_dataloader(X_test)\n",
    "for x, in test_loader:\n",
    "    y_test.append(model(x.to(model.device)).detach().cpu().numpy())\n",
    "y_test = y_scaler.inverse_transform(np.concatenate(y_test))"
   ]
  },
  {
   "cell_type": "code",
   "execution_count": null,
   "id": "72f097a7-d191-4087-a7b0-dd3bb66fe707",
   "metadata": {},
   "outputs": [],
   "source": [
    "print(((all_data[\"voltage_rc1\"] - all_data[\"voltage_rc2\"]).abs() / all_data[\"voltage_rc2\"] * 100).mean())\n",
    "print(((pd.DataFrame(y_test)[0] - all_data[\"voltage_rc2\"]).abs() / all_data[\"voltage_rc2\"] * 100).mean())\n"
   ]
  },
  {
   "cell_type": "code",
   "execution_count": null,
   "id": "305d5945-8c0e-4082-8213-47b686b5c61e",
   "metadata": {},
   "outputs": [],
   "source": [
    "print(((all_data[\"voltage_rc1\"] - all_data[\"voltage_rc2\"]).abs() / all_data[\"voltage_rc2\"] * 100).std())\n",
    "print(((pd.DataFrame(y_test)[0] - all_data[\"voltage_rc2\"]).abs() / all_data[\"voltage_rc2\"] * 100).std())"
   ]
  },
  {
   "cell_type": "code",
   "execution_count": null,
   "id": "ad47ec70-bca6-4eca-ba2c-a0a30a07951e",
   "metadata": {},
   "outputs": [],
   "source": []
  }
 ],
 "metadata": {
  "kernelspec": {
   "display_name": "Python 3 (ipykernel)",
   "language": "python",
   "name": "python3"
  },
  "language_info": {
   "codemirror_mode": {
    "name": "ipython",
    "version": 3
   },
   "file_extension": ".py",
   "mimetype": "text/x-python",
   "name": "python",
   "nbconvert_exporter": "python",
   "pygments_lexer": "ipython3",
   "version": "3.8.10"
  }
 },
 "nbformat": 4,
 "nbformat_minor": 5
}
